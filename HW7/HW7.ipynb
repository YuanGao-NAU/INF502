{
 "cells": [
  {
   "cell_type": "markdown",
   "metadata": {},
   "source": [
    "# HW7"
   ]
  },
  {
   "cell_type": "code",
   "execution_count": 10,
   "metadata": {},
   "outputs": [
    {
     "name": "stdout",
     "output_type": "stream",
     "text": [
      "5\n",
      "8\n",
      "15\n",
      "1\n",
      "5\n",
      "6\n"
     ]
    }
   ],
   "source": [
    "def GDF(a, b):\n",
    "    res = 1\n",
    "    if a > b:\n",
    "        if a % b == 0 :\n",
    "            res = b\n",
    "        else:\n",
    "            res = GDF(b, a%b)\n",
    "    else:\n",
    "        res = GDF(b, a)\n",
    "    return res\n",
    "\n",
    "print(GDF(300, 115))\n",
    "print(GDF(1000, 344))\n",
    "print(GDF(300, 15))\n",
    "print(GDF(10,3))\n",
    "print(GDF(5, 60))\n",
    "print(GDF(48, 18))"
   ]
  },
  {
   "cell_type": "markdown",
   "metadata": {},
   "source": [
    "In this solution, the base case is ```a % b = 0```.\n",
    "Firstly, we need to compare the inputs a and b. If ```a > b```, then we can do ```a % b```. Otherwise, switch the two variables and call the function recursively.\n",
    "Secondly, if ```a % b == 0```, the GDF equals to ```b```. Otherwise, call the GDF recursively until we can reach the base case."
   ]
  },
  {
   "cell_type": "code",
   "execution_count": null,
   "metadata": {},
   "outputs": [],
   "source": []
  }
 ],
 "metadata": {
  "kernelspec": {
   "display_name": "Python 3",
   "language": "python",
   "name": "python3"
  },
  "language_info": {
   "codemirror_mode": {
    "name": "ipython",
    "version": 3
   },
   "file_extension": ".py",
   "mimetype": "text/x-python",
   "name": "python",
   "nbconvert_exporter": "python",
   "pygments_lexer": "ipython3",
   "version": "3.7.4"
  }
 },
 "nbformat": 4,
 "nbformat_minor": 2
}
