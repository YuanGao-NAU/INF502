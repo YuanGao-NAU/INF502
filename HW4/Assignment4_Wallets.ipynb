{
 "cells": [
  {
   "cell_type": "markdown",
   "metadata": {},
   "source": [
    "# HW4"
   ]
  },
  {
   "cell_type": "markdown",
   "metadata": {},
   "source": [
    "## Wallets\n",
    "In this function, I used a list named values to store the money of each wallet, and I used exception handling to deal with the possible exception. Here, the possible exception is when I want to convert the data into float, a ```ValueError``` exception would occur. So, I handled the exception. Since I was required to give the fattest wallet and the skinniest wallet, so I used the ```list.sort()``` to sort the money of each wallet. also, I used the ```list.sum``` to calculate the total amount of money of all the wallets. "
   ]
  },
  {
   "cell_type": "code",
   "execution_count": null,
   "metadata": {},
   "outputs": [],
   "source": [
    "def wallets1():\n",
    "\tvalues = []\n",
    "\tcnt = 0\n",
    "\twhile True:\n",
    "\t\tvalue = input(\"How much do you have?\\n\")\n",
    "\t\ttry:\n",
    "\t\t\tvalue = float(value)\n",
    "\t\texcept ValueError:\n",
    "\t\t\tprint(\"you give the invalid value: %s\" %value)\n",
    "\t\telse:\n",
    "\t\t\tvalues.append(value)\n",
    "\t\t\tcnt = cnt + 1\n",
    "\t\tif cnt == 5:\n",
    "\t\t\tbreak\n",
    "\tvalues.sort(reverse=True)\n",
    "\tprint(\"The fattest wallet has $%f value in it.\\n\" %values[0])\n",
    "\tprint(\"The skinniest wallet has $%f value in it.\\n\" %values[-1])\n",
    "\tprint(\"All together, these wallets have $%f value in them.\\n\" %sum(values))\n",
    "\tprint(\"All together, the total value of these wallets is worth $%f dimes.\\n\" %(sum(values)*10))"
   ]
  }
 ],
 "metadata": {
  "kernelspec": {
   "display_name": "Python 3",
   "language": "python",
   "name": "python3"
  },
  "language_info": {
   "codemirror_mode": {
    "name": "ipython",
    "version": 3
   },
   "file_extension": ".py",
   "mimetype": "text/x-python",
   "name": "python",
   "nbconvert_exporter": "python",
   "pygments_lexer": "ipython3",
   "version": "3.7.4"
  }
 },
 "nbformat": 4,
 "nbformat_minor": 2
}
